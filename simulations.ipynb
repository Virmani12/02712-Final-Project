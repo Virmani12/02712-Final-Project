{
 "cells": [
  {
   "cell_type": "code",
   "execution_count": null,
   "metadata": {},
   "outputs": [],
   "source": [
    "from initialization import Location\n",
    "from initialization import Grid\n",
    "import numpy as np\n",
    "import pandas as pd\n",
    "import matplotlib.pyplot as plt\n",
    "import seaborn as sns"
   ]
  },
  {
   "cell_type": "markdown",
   "metadata": {},
   "source": [
    "# Base Model"
   ]
  },
  {
   "cell_type": "code",
   "execution_count": null,
   "metadata": {},
   "outputs": [],
   "source": [
    "# Parameters\n",
    "beta = 0.3 \n",
    "mu = 0.1\n",
    "population = 1000 \n",
    "initial_infected = 1  \n",
    "initial_susceptible = population - initial_infected  \n",
    "initial_recovered = 0 \n",
    "days = 100  \n",
    "\n",
    "# Create arrays to store the results\n",
    "susceptible = np.zeros(days)\n",
    "infectious = np.zeros(days)\n",
    "recovered = np.zeros(days)\n",
    "\n",
    "# Initialize the initial conditions\n",
    "susceptible[0] = initial_susceptible\n",
    "infectious[0] = initial_infected\n",
    "recovered[0] = initial_recovered\n",
    "\n",
    "# Simulate the SIR model\n",
    "for day in range(1, days):\n",
    "    new_infections = beta * susceptible[day - 1] * infectious[day - 1] / population\n",
    "    new_recoveries = mu * infectious[day - 1]\n",
    "\n",
    "    susceptible[day] = susceptible[day - 1] - new_infections\n",
    "    infectious[day] = infectious[day - 1] + new_infections - new_recoveries\n",
    "    recovered[day] = recovered[day - 1] + new_recoveries"
   ]
  },
  {
   "cell_type": "code",
   "execution_count": null,
   "metadata": {},
   "outputs": [],
   "source": [
    "# Plot the results\n",
    "plt.figure(figsize=(10, 6))\n",
    "plt.plot(susceptible, label=\"Susceptible\")\n",
    "plt.plot(infectious, label=\"Infectious\")\n",
    "plt.plot(recovered, label=\"Recovered\")\n",
    "plt.xlabel(\"Days\")\n",
    "plt.ylabel(\"Population\")\n",
    "plt.legend()\n",
    "plt.title(\"New SIR Model\")\n",
    "plt.grid(True)\n",
    "plt.show()"
   ]
  },
  {
   "cell_type": "code",
   "execution_count": null,
   "metadata": {},
   "outputs": [],
   "source": [
    "def get_other_loc_params(grid,loc):\n",
    "    infections = 0\n",
    "    total_connections = 0\n",
    "    for j in loc.connections:\n",
    "        if grid.map[j].n != 0:\n",
    "            infections += loc.connections[j] * (grid.map[j].i / grid.map[j].n)\n",
    "            total_connections += loc.connections[j]\n",
    "    \n",
    "    return infections, total_connections"
   ]
  },
  {
   "cell_type": "markdown",
   "metadata": {},
   "source": [
    "# Mobility Based SIR Model w/ Dynamic Social and Outside Connectivity - Random, High, Low"
   ]
  },
  {
   "cell_type": "code",
   "execution_count": null,
   "metadata": {},
   "outputs": [],
   "source": [
    "def dynamic_alpha_connectivity(type, threshold, beta, mu, N, n_locations, days, alpha_range, trials, outside_connectivity):\n",
    "    # Parameters\n",
    "    beta = 0.3 #rate of infection *CHANGE LATER MAYBE*\n",
    "    mu = 0.1 #rate of recovery *CHANGE LATER MAYBE*\n",
    "    N = 100000\n",
    "    n_locations=100\n",
    "    days = 100\n",
    "    alpha_range = np.arange(0,1.05,0.05)\n",
    "    outside_connectivity = np.arange(0,1.05,0.05)\n",
    "    trials=1\n",
    "\n",
    "    alpha_connectivity_sir = {}\n",
    "    for alpha in alpha_range:\n",
    "        for c in outside_connectivity:\n",
    "            for trial in range(trials):\n",
    "                alpha_connectivity_sir[(alpha,c)] = []\n",
    "                # Create arrays to store the results\n",
    "                infectious = np.zeros(days)\n",
    "                #Initialize grid and locations\n",
    "                grid = Grid(n_locations, N, alpha, beta, mu, c)\n",
    "\n",
    "                # Initialize random starting location based on chosen Mobility Type\n",
    "                if type == \"Random\":\n",
    "                    grid.random_orgin()\n",
    "                elif type == \"High Mobility\":\n",
    "                    grid.mobility_based_origin(threshold, True)\n",
    "                else:\n",
    "                    grid.mobility_based_origin(threshold, False)\n",
    "\n",
    "                day = 0\n",
    "                for day in range(days):\n",
    "                    for loc in grid.map:\n",
    "                        if loc.n != 0:\n",
    "                            infections, total_connections = get_other_loc_params(grid, loc)\n",
    "                            \n",
    "                            new_infections = (beta * loc.s * loc.i/ loc.n) + ((alpha*loc.s*infections*beta)/(loc.n+total_connections))\n",
    "                            \n",
    "                            new_recoveries = (mu * loc.i) / loc.n\n",
    "\n",
    "                            loc.s = loc.s - new_infections\n",
    "                            loc.i = loc.i + new_infections - new_recoveries\n",
    "                            loc.r = loc.r + new_recoveries\n",
    "\n",
    "                            infectious[day] += loc.i\n",
    "                    if infectious[day] < infectious[day-1] and day > 0:\n",
    "                        alpha_connectivity_sir[(alpha,c)].append(day-1)\n",
    "                        break\n",
    "                if len(alpha_connectivity_sir[(alpha,c)]) == 0:\n",
    "                    alpha_connectivity_sir[(alpha,c)].append(day)\n",
    "\n",
    "            alpha_connectivity_sir[(alpha,c)] = np.mean(alpha_connectivity_sir[(alpha,c)])\n",
    "\n",
    "    return list(alpha_connectivity_sir.values())\n",
    "    "
   ]
  },
  {
   "cell_type": "code",
   "execution_count": null,
   "metadata": {},
   "outputs": [],
   "source": [
    "def plotting_dynamic_alpha_connectivity(alpha_range, outside_connectivity, max_infections, type):\n",
    "    x, y = np.meshgrid(alpha_range, outside_connectivity[::-1])\n",
    "    z = []\n",
    "    for i in range(len(outside_connectivity)):\n",
    "        miniList = []\n",
    "        for j in range(len(alpha_range)):\n",
    "            miniList.append(max_infections.pop(0))\n",
    "        z.append(miniList)\n",
    "    z = np.array(z)\n",
    "\n",
    "    fig = plt.figure(figsize = (18, 20))\n",
    "    ax = fig.add_subplot(111, projection='3d')\n",
    "    surface = ax.plot_surface(x, y, z, cmap='viridis')\n",
    "    fig.colorbar(surface, ax=ax, shrink=0.5, aspect=10)\n",
    "\n",
    "    ax.set_xlabel('Social Connectivity Alpha')\n",
    "    ax.set_ylabel('Outside Connectivity')\n",
    "    ax.set_zlabel('Max Infections')\n",
    "    ax.set_title('Dynamic Alpha and Connectivity with {type} ')\n",
    "\n",
    "    plt.show()"
   ]
  },
  {
   "cell_type": "markdown",
   "metadata": {},
   "source": [
    "### SIR Model w/ Dynamic Alpha and Outside Connectivity - Random Origin"
   ]
  },
  {
   "cell_type": "code",
   "execution_count": null,
   "metadata": {},
   "outputs": [],
   "source": [
    "# Parameters\n",
    "beta = 0.3 #rate of infection *CHANGE LATER MAYBE*\n",
    "mu = 0.1 #rate of recovery *CHANGE LATER MAYBE*\n",
    "N = 100000\n",
    "n_locations=100\n",
    "days = 100\n",
    "alpha_range = np.arange(0,1.05,0.05)\n",
    "outside_connectivity = np.arange(0,1.05,0.05)\n",
    "trials=1\n",
    "type = \"Random\"\n",
    "threshold = 0.1\n",
    "\n",
    "max_infections = dynamic_alpha_connectivity(type, threshold, beta, mu, N, n_locations, days, alpha_range, trials, outside_connectivity)\n",
    "plotting_dynamic_alpha_connectivity(alpha_range, outside_connectivity, max_infections, type)"
   ]
  },
  {
   "cell_type": "markdown",
   "metadata": {},
   "source": [
    "### SIR Model w/ Dynamic Alpha and Outside Connectivity - High Mobility Origin"
   ]
  },
  {
   "cell_type": "code",
   "execution_count": null,
   "metadata": {},
   "outputs": [],
   "source": [
    "type = \"High Mobility\"\n",
    "\n",
    "max_infections = dynamic_alpha_connectivity(type, threshold, beta, mu, N, n_locations, days, alpha_range, trials, outside_connectivity)\n",
    "plotting_dynamic_alpha_connectivity(alpha_range, outside_connectivity, max_infections, type)"
   ]
  },
  {
   "cell_type": "markdown",
   "metadata": {},
   "source": [
    "### SIR Model w/ Dynamic Alpha and Outside Connectivity - Low Mobility Origin"
   ]
  },
  {
   "cell_type": "code",
   "execution_count": null,
   "metadata": {},
   "outputs": [],
   "source": [
    "type = \"Low Mobility\"\n",
    "\n",
    "max_infections = dynamic_alpha_connectivity(type, threshold, beta, mu, N, n_locations, days, alpha_range, trials, outside_connectivity)\n",
    "plotting_dynamic_alpha_connectivity(alpha_range, outside_connectivity, max_infections, type)"
   ]
  },
  {
   "cell_type": "code",
   "execution_count": null,
   "metadata": {},
   "outputs": [],
   "source": [
    "# def dynamic_alpha():\n",
    "#     # Parameters\n",
    "#     beta = 0.3 #rate of infection *CHANGE LATER MAYBE*\n",
    "#     mu = 0.1 #rate of recovery *CHANGE LATER MAYBE*\n",
    "#     N = 100000\n",
    "#     n_locations=100\n",
    "#     days = 100\n",
    "#     alphas = np.arange(0.1,1.1,0.1)\n",
    "#     alpha=0.5\n",
    "#     trials=10\n",
    "\n",
    "#     alpha_sir = {}\n",
    "#     for alpha in alphas:\n",
    "\n",
    "#         # Create arrays to store the results\n",
    "#         susceptible = np.zeros(days)\n",
    "#         infectious = np.zeros(days)\n",
    "#         recovered = np.zeros(days) \n",
    "#         for trial in range(trials):\n",
    "    \n",
    "#             #Initialize grid and locations\n",
    "#             grid = Grid(n_locations, N, alpha, beta, mu)\n",
    "\n",
    "#             #initialize random starting location\n",
    "#             grid.random_orgin()\n",
    "\n",
    "#             for day in range(days):\n",
    "#                 for loc in grid.map:\n",
    "#                     if loc.n != 0:\n",
    "#                         infections, total_connections = get_other_loc_params(grid, loc)\n",
    "                        \n",
    "#                         new_infections = (beta * loc.s * loc.i/ loc.n) + ((alpha*loc.s*infections*beta)/(loc.n+total_connections))\n",
    "                        \n",
    "#                         new_recoveries = (mu * loc.i) / loc.n\n",
    "\n",
    "#                         loc.s = loc.s - new_infections\n",
    "#                         loc.i = loc.i + new_infections - new_recoveries\n",
    "#                         loc.r = loc.r + new_recoveries\n",
    "\n",
    "#                         susceptible[day] += loc.s\n",
    "#                         infectious[day] += loc.i\n",
    "#                         recovered[day] += loc.r\n",
    "\n",
    "#         susceptible = [day / (trials*N) for day in susceptible]\n",
    "#         infectious = [day / (trials*N) for day in infectious]\n",
    "#         recovered = [day / (trials*N) for day in recovered]\n",
    "\n",
    "#         susceptible.insert(0,1)\n",
    "#         infectious.insert(0,1/N)\n",
    "#         recovered.insert(0,0)\n",
    "\n",
    "#         alpha_sir[alpha] = [susceptible, infectious, recovered]\n",
    "#     return alpha_sir"
   ]
  },
  {
   "cell_type": "code",
   "execution_count": null,
   "metadata": {},
   "outputs": [],
   "source": [
    "# dynamic_alpha_results = dynamic_alpha()\n",
    "# dynamic_alpha_results"
   ]
  },
  {
   "cell_type": "code",
   "execution_count": null,
   "metadata": {},
   "outputs": [],
   "source": [
    "# translation = {0:\"S\", 1:\"I\", 2:\"R\"}\n",
    "# for key, values in dynamic_alpha_results.items():\n",
    "#     plt.figure()\n",
    "#     for sublist in values:\n",
    "#         # plt.plot(sublist, label=f'{key}_{values.index(sublist)}')\n",
    "#         plt.plot(sublist, label=translation[values.index(sublist)])\n",
    "#         plt.title(f'SIR Model w/ alpha={key}')\n",
    "\n",
    "#     plt.legend()\n",
    "#     plt.xlabel(\"Generations\")\n",
    "#     plt.ylabel(\"Population Density\")\n",
    "    \n",
    "# plt.show()"
   ]
  },
  {
   "cell_type": "markdown",
   "metadata": {},
   "source": [
    "# Mobility Based SIR Models - Random, High, and Low"
   ]
  },
  {
   "cell_type": "code",
   "execution_count": null,
   "metadata": {},
   "outputs": [],
   "source": [
    "def dynamic_alpha(type, threshold, beta, mu, N, n_locations, days, alpha_range, trials, c):\n",
    "    alpha_sir = {}\n",
    "    for alpha in alpha_range:\n",
    "\n",
    "        # Create arrays to store the results\n",
    "        susceptible = np.zeros(days)\n",
    "        infectious = np.zeros(days)\n",
    "        recovered = np.zeros(days) \n",
    "        for trial in range(trials):\n",
    "    \n",
    "            # Initialize grid and locations\n",
    "            grid = Grid(n_locations, N, alpha, beta, mu, c)\n",
    "\n",
    "            # Initialize random starting location based on chosen Mobility Type\n",
    "            if type == \"Random\":\n",
    "                grid.random_orgin()\n",
    "            elif type == \"High Mobility\":\n",
    "                grid.mobility_based_origin(threshold, True)\n",
    "            else:\n",
    "                grid.mobility_based_origin(threshold, False)\n",
    "                \n",
    "\n",
    "            for day in range(days):\n",
    "                for loc in grid.map:\n",
    "                    if loc.n != 0:\n",
    "                        infections, total_connections = get_other_loc_params(grid, loc)\n",
    "                        \n",
    "                        new_infections = (beta * loc.s * loc.i/ loc.n) + ((alpha*loc.s*infections*beta)/(loc.n+total_connections))\n",
    "                        \n",
    "                        new_recoveries = (mu * loc.i) / loc.n\n",
    "\n",
    "                        loc.s = loc.s - new_infections\n",
    "                        loc.i = loc.i + new_infections - new_recoveries\n",
    "                        loc.r = loc.r + new_recoveries\n",
    "\n",
    "                        susceptible[day] += loc.s\n",
    "                        infectious[day] += loc.i\n",
    "                        recovered[day] += loc.r\n",
    "\n",
    "        susceptible = [day / (trials*N) for day in susceptible]\n",
    "        infectious = [day / (trials*N) for day in infectious]\n",
    "        recovered = [day / (trials*N) for day in recovered]\n",
    "\n",
    "        susceptible.insert(0,1)\n",
    "        infectious.insert(0,1/N)\n",
    "        recovered.insert(0,0)\n",
    "\n",
    "        alpha_sir[alpha] = [susceptible, infectious, recovered]\n",
    "    return alpha_sir"
   ]
  },
  {
   "cell_type": "code",
   "execution_count": null,
   "metadata": {},
   "outputs": [],
   "source": [
    "'''\n",
    "def sir_plotting(results, type):\n",
    "    translation = {0:\"S\", 1:\"I\", 2:\"R\"}\n",
    "    for key, values in results:\n",
    "        plt.figure()\n",
    "        for sublist in values:\n",
    "            # plt.plot(sublist, label=f'{key}_{values.index(sublist)}')\n",
    "            plt.plot(sublist, label=translation[values.index(sublist)])\n",
    "            plt.title(f'SIR Model w/ {type} Mobility: Alpha = {round(key,1)}')\n",
    "\n",
    "        plt.legend()\n",
    "        plt.xlabel(\"Generations\")\n",
    "        plt.ylabel(\"Population Density\")\n",
    "    plt.show()\n",
    "    '''"
   ]
  },
  {
   "cell_type": "code",
   "execution_count": null,
   "metadata": {},
   "outputs": [],
   "source": [
    "import matplotlib.pyplot as plt\n",
    "import numpy as np\n",
    "\n",
    "def sir_plotting(results, type):\n",
    "    translation = {0: \"S\", 1: \"I\", 2: \"R\", 3: \"D\"}\n",
    "\n",
    "    # Calculate the number of rows and columns based on the number of results\n",
    "    num_rows = len(results) // 2 + len(results) % 2\n",
    "    num_cols = 3\n",
    "\n",
    "\n",
    "    # Set the figure size\n",
    "    plt.figure(figsize=(30, 5 * num_rows))\n",
    "\n",
    "    for idx, (key, values) in enumerate(results.items()):\n",
    "        # Create subplots\n",
    "        plt.subplot(num_rows, num_cols, idx + 1)\n",
    "\n",
    "        for sublist in values:\n",
    "            plt.plot(sublist, label=translation[values.index(sublist)])\n",
    "            plt.title(f'SIR Model w/ {type} Mobility: Alpha = {key}')\n",
    "\n",
    "        plt.legend()\n",
    "        plt.xlabel(\"Generations\")\n",
    "        plt.ylabel(\"Population Density\")\n",
    "\n",
    "    # Adjust layout to prevent overlapping\n",
    "    plt.tight_layout()\n",
    "    plt.show()"
   ]
  },
  {
   "cell_type": "markdown",
   "metadata": {},
   "source": [
    "### SIR Model with Random Origin and Dynamic Alpha"
   ]
  },
  {
   "cell_type": "code",
   "execution_count": null,
   "metadata": {},
   "outputs": [],
   "source": [
    "beta = 0.3 # rate of infection *CHANGE LATER MAYBE*\n",
    "mu = 0.1 # rate of recovery *CHANGE LATER MAYBE*\n",
    "N = 100000\n",
    "n_locations=500\n",
    "days = 100\n",
    "alphas = [0.1,0.2,0.4,0.6,0.8,1.0]#np.arange(0.1,1.1,0.1)\n",
    "trials=100\n",
    "c = 0\n",
    "type = \"Random\"\n",
    "threshold = 0.1\n",
    "dynamic_alpha_results = dynamic_alpha(type, threshold, beta, mu, N, n_locations, days, alphas, trials, c)\n",
    "sir_plotting(dynamic_alpha_results, type)\n"
   ]
  },
  {
   "cell_type": "markdown",
   "metadata": {},
   "source": [
    "### SIR Model with High Mobility and Dynamic Alpha"
   ]
  },
  {
   "cell_type": "code",
   "execution_count": null,
   "metadata": {},
   "outputs": [],
   "source": [
    "type = \"High\"\n",
    "threshold = 0.1\n",
    "dynamic_alpha_results = dynamic_alpha(type, threshold, beta, mu, N, n_locations, days, alphas, trials, c)\n",
    "translation = {0:\"S\", 1:\"I\", 2:\"R\"}\n",
    "sir_plotting(dynamic_alpha_results.items(), type)\n"
   ]
  },
  {
   "cell_type": "markdown",
   "metadata": {},
   "source": [
    "### SIR Model with Low Mobility and Dynamic Alpha"
   ]
  },
  {
   "cell_type": "code",
   "execution_count": null,
   "metadata": {},
   "outputs": [],
   "source": [
    "type = \"Low\"\n",
    "threshold = 0.1\n",
    "dynamic_alpha_results = dynamic_alpha(type, threshold, beta, mu, N, n_locations, days, alphas, trials, c)\n",
    "translation = {0:\"S\", 1:\"I\", 2:\"R\"}\n",
    "sir_plotting(dynamic_alpha_results.items(), type)"
   ]
  }
 ],
 "metadata": {
  "kernelspec": {
   "display_name": "comp_med",
   "language": "python",
   "name": "python3"
  },
  "language_info": {
   "codemirror_mode": {
    "name": "ipython",
    "version": 3
   },
   "file_extension": ".py",
   "mimetype": "text/x-python",
   "name": "python",
   "nbconvert_exporter": "python",
   "pygments_lexer": "ipython3",
   "version": "3.9.18"
  }
 },
 "nbformat": 4,
 "nbformat_minor": 2
}
